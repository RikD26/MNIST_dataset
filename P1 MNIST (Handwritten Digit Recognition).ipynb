{
 "cells": [
  {
   "cell_type": "code",
   "execution_count": 1,
   "id": "8ef5888d",
   "metadata": {},
   "outputs": [],
   "source": [
    "import numpy as np\n",
    "import tensorflow as tf\n",
    "import tensorflow_datasets as tfds"
   ]
  },
  {
   "cell_type": "code",
   "execution_count": 4,
   "id": "696e51ac",
   "metadata": {
    "scrolled": true
   },
   "outputs": [],
   "source": [
    "'''the tfds.load method loads the data set. if the dataset is missing then, its first \n",
    "downloaded''' \n",
    "\n",
    "mnist_dataset, mnist_info=tfds.load(name=\"mnist\", with_info=True, as_supervised=True)"
   ]
  },
  {
   "cell_type": "code",
   "execution_count": 10,
   "id": "b1628c7a",
   "metadata": {},
   "outputs": [],
   "source": [
    "#the mnist_train and mnist_test datasets have the training and the testing data\n",
    "mnist_train, mnist_test=mnist_dataset['train'], mnist_dataset['test']\n",
    "#since the split only converts the entire data into test and train, we can divide the train data further to validation data\n",
    "num_validation_samples=0.1 * mnist_info.splits['train'].num_examples\n",
    "'''tf.cast(variable, datatype): converts a variable into the data type'''\n",
    "\n",
    "num_validation_samples=tf.cast(num_validation_samples, tf.int64)\n",
    "\n",
    "def scale(image, label):\n",
    "    image=tf.cast(image, tf.float32)\n",
    "    image/=255.\n",
    "    return image, label\n",
    "\n",
    "scaled_train_and_validation_data=mnist_train.map(scale)\n",
    "test_data = mnist_test.map(scale)\n",
    "\n",
    "BUFFER_SIZE = 10000\n",
    "shuffled_train_and_validation_data=scaled_train_and_validation_data.shuffle(BUFFER_SIZE)\n",
    "\n",
    "validation_data=shuffled_train_and_validation_data.take(num_validation_samples)\n",
    "train_data=shuffled_train_and_validation_data.skip(num_validation_samples)\n",
    "\n",
    "\n",
    "BATCH_SIZE=100\n",
    "\n",
    "train_data=train_data.batch(BATCH_SIZE)\n",
    "validation_data=validation_data.batch(num_validation_samples)\n",
    "num_test_samples=mnist_info.splits['test'].num_examples\n",
    "test_data=test_data.batch(num_test_samples)\n",
    "\n",
    "validation_inputs, validation_targets=next(iter(validation_data))"
   ]
  },
  {
   "cell_type": "code",
   "execution_count": 20,
   "id": "c420bcf9",
   "metadata": {},
   "outputs": [],
   "source": [
    "input_size=784\n",
    "output_size=10\n",
    "hidden_layer_size=100\n",
    "\n",
    "model=tf.keras.Sequential([\n",
    "                            tf.keras.layers.Flatten(input_shape=(28, 28, 1)),\n",
    "                            tf.keras.layers.Dense(hidden_layer_size, activation='relu'),\n",
    "                            tf.keras.layers.Dense(hidden_layer_size, activation='relu'),\n",
    "                            tf.keras.layers.Dense(output_size, activation='softmax')\n",
    "                          ])"
   ]
  },
  {
   "cell_type": "code",
   "execution_count": 21,
   "id": "2f12db84",
   "metadata": {},
   "outputs": [],
   "source": [
    "model.compile(optimizer='adam', loss='sparse_categorical_crossentropy', metrics=['accuracy'])"
   ]
  },
  {
   "cell_type": "code",
   "execution_count": 22,
   "id": "e9869d9f",
   "metadata": {},
   "outputs": [
    {
     "name": "stdout",
     "output_type": "stream",
     "text": [
      "Epoch 1/5\n",
      "540/540 - 2s - loss: 0.3352 - accuracy: 0.9034 - val_loss: 0.1648 - val_accuracy: 0.9513\n",
      "Epoch 2/5\n",
      "540/540 - 2s - loss: 0.1320 - accuracy: 0.9610 - val_loss: 0.1169 - val_accuracy: 0.9657\n",
      "Epoch 3/5\n",
      "540/540 - 2s - loss: 0.0947 - accuracy: 0.9714 - val_loss: 0.0870 - val_accuracy: 0.9738\n",
      "Epoch 4/5\n",
      "540/540 - 2s - loss: 0.0745 - accuracy: 0.9774 - val_loss: 0.0692 - val_accuracy: 0.9805\n",
      "Epoch 5/5\n",
      "540/540 - 2s - loss: 0.0572 - accuracy: 0.9826 - val_loss: 0.0676 - val_accuracy: 0.9807\n"
     ]
    },
    {
     "data": {
      "text/plain": [
       "<keras.callbacks.History at 0x1a69b792f40>"
      ]
     },
     "execution_count": 22,
     "metadata": {},
     "output_type": "execute_result"
    }
   ],
   "source": [
    "NUM_EPOCHS=5\n",
    "model.fit(train_data, epochs=NUM_EPOCHS, validation_data=(validation_inputs, validation_targets), verbose=2)"
   ]
  },
  {
   "cell_type": "code",
   "execution_count": 24,
   "id": "84834c05",
   "metadata": {},
   "outputs": [
    {
     "name": "stdout",
     "output_type": "stream",
     "text": [
      "1/1 [==============================] - 0s 191ms/step - loss: 0.0822 - accuracy: 0.9750\n",
      "Test loss= 0.08. Test accuracy= 97.50%\n"
     ]
    }
   ],
   "source": [
    "test_loss, test_accuracy=model.evaluate(test_data)\n",
    "print(\"Test loss= {0:.2f}. Test accuracy= {1:.2f}%\".format(test_loss, test_accuracy*100.))"
   ]
  },
  {
   "cell_type": "code",
   "execution_count": null,
   "id": "13fb514b",
   "metadata": {},
   "outputs": [],
   "source": []
  }
 ],
 "metadata": {
  "kernelspec": {
   "display_name": "Python 3 (ipykernel)",
   "language": "python",
   "name": "python3"
  },
  "language_info": {
   "codemirror_mode": {
    "name": "ipython",
    "version": 3
   },
   "file_extension": ".py",
   "mimetype": "text/x-python",
   "name": "python",
   "nbconvert_exporter": "python",
   "pygments_lexer": "ipython3",
   "version": "3.9.7"
  }
 },
 "nbformat": 4,
 "nbformat_minor": 5
}
